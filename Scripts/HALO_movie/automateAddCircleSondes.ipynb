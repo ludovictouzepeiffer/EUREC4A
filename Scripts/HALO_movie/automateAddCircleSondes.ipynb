{
 "cells": [
  {
   "cell_type": "code",
   "execution_count": 1,
   "metadata": {
    "ExecuteTime": {
     "end_time": "2020-02-08T00:15:56.789774Z",
     "start_time": "2020-02-08T00:15:56.559017Z"
    }
   },
   "outputs": [],
   "source": [
    "%load_ext autoreload\n",
    "%matplotlib inline"
   ]
  },
  {
   "cell_type": "code",
   "execution_count": 404,
   "metadata": {
    "ExecuteTime": {
     "end_time": "2020-02-08T14:19:57.881343Z",
     "start_time": "2020-02-08T14:19:57.848549Z"
    }
   },
   "outputs": [
    {
     "name": "stdout",
     "output_type": "stream",
     "text": [
      "repo: /Users/bfildier/Code/analyses/EUREC4A/EUREC4A\n"
     ]
    }
   ],
   "source": [
    "%autoreload 2\n",
    "\n",
    "import numpy as np\n",
    "import matplotlib as mpl\n",
    "import matplotlib.pyplot as plt\n",
    "import matplotlib.colors as colors\n",
    "import matplotlib.cm as cmx\n",
    "import xarray as xr\n",
    "import os,sys,glob\n",
    "import datetime\n",
    "\n",
    "from PIL import Image,ImageSequence\n",
    "from matplotlib.patches import Circle\n",
    "import matplotlib.ticker as ticker\n",
    "from matplotlib.colors import LinearSegmentedColormap\n",
    "\n",
    "## Add own library to path\n",
    "workdir = os.getcwd()\n",
    "repodir = workdir\n",
    "projectname = 'EUREC4A'\n",
    "while os.path.basename(repodir) != projectname:\n",
    "    repodir = os.path.dirname(repodir)\n",
    "print('repo:',repodir)\n",
    "thismodule = sys.modules[__name__]\n",
    "## Own functions\n",
    "moduledir = os.path.join(repodir,'functions')\n",
    "sys.path.insert(0,moduledir)\n",
    "\n",
    "# local input directory\n",
    "# localinputdir = os.path.join(repodir,'inputdata')\n",
    "sondedir = '/Users/bfildier/Data/EUREC4A/Measurements/HALO'\n",
    "goesdir = os.path.join(repodir,'outputs/figures')\n",
    "outputdir = os.path.join(repodir,'outputs/movies')\n",
    "\n",
    "## Graphical parameters\n",
    "plt.style.use(os.path.join(matplotlib.get_configdir(),'stylelib/presentation.mplstyle'))"
   ]
  },
  {
   "cell_type": "code",
   "execution_count": 433,
   "metadata": {
    "ExecuteTime": {
     "end_time": "2020-02-08T16:15:08.133026Z",
     "start_time": "2020-02-08T16:15:08.094082Z"
    }
   },
   "outputs": [],
   "source": [
    "def imageNameRoot(dtime):\n",
    "    \n",
    "    date_str = dtime.strftime('%Y-%m-%d')\n",
    "        \n",
    "    minutes = dtime.minute\n",
    "    \n",
    "    # pick time rounded to closest 10mn increment\n",
    "    hr_goes = dtime.hour\n",
    "    min_goes = round(dtime.minute/10)*10 # round min to closest 10mn\n",
    "    hr_goes += int((min_goes/60)) # increment if round to next hour\n",
    "    min_goes = min_goes%60\n",
    "    dtime_goes = datetime.datetime(year=dtime.year,\n",
    "                                   month=dtime.month,\n",
    "                                   day=dtime.day,\n",
    "                                   hour=hr_goes,\n",
    "                                   minute=min_goes)\n",
    "    \n",
    "    # path of image\n",
    "    nameroot = dtime_goes.strftime('%Y-%m-%dT%H:%M:00Z')\n",
    "    \n",
    "    return nameroot\n",
    "\n",
    "\n",
    "def loadImage(dtime):\n",
    "    \n",
    "    \"\"\"Load GOES image at closest 10mn increment\n",
    "    Arguments:\n",
    "    - dtime: datetime object\n",
    "    \"\"\"\n",
    "    \n",
    "    nameroot = imageNameRoot(dtime)\n",
    "    \n",
    "    # path of image\n",
    "    fullpath = os.path.join(goesdir,nameroot[:10],nameroot+'.jpg')\n",
    "    print('load image %s.jpg'%nameroot)\n",
    "    \n",
    "    # load and return image\n",
    "    return Image.open(fullpath)\n",
    "\n",
    "def outputFileName(dtime):\n",
    "    \n",
    "    nameroot = imageNameRoot(dtime)\n",
    "    \n",
    "    return nameroot+'_HALO.jpg'\n",
    "    \n",
    "# # TEST function\n",
    "# now = datetime.datetime(year=2020,month=1,day=24,hour=15,minute=43)\n",
    "# print(now)\n",
    "# now_goes = loadImage(now)"
   ]
  },
  {
   "cell_type": "code",
   "execution_count": null,
   "metadata": {},
   "outputs": [],
   "source": [
    "\n",
    "    "
   ]
  },
  {
   "cell_type": "code",
   "execution_count": 398,
   "metadata": {
    "ExecuteTime": {
     "end_time": "2020-02-08T14:11:40.593725Z",
     "start_time": "2020-02-08T14:11:40.559446Z"
    }
   },
   "outputs": [],
   "source": [
    "def loadSondes(dtime):\n",
    "    \n",
    "    allsondefiles = glob.glob(os.path.join(sondedir,\n",
    "                                       dtime.strftime('%Y%m%d'),\n",
    "                                       'AVAPS_Dropsondes/processed/*_PQC.nc'))\n",
    "    allsondefiles.sort()\n",
    "    \n",
    "    allsondes = []\n",
    "    \n",
    "    for filepath in allsondefiles:\n",
    "        \n",
    "        allsondes.append(xr.open_dataset(filepath).dropna(dim='time',subset=['time']).swap_dims({'time':'alt'}).reset_coords().dropna(dim='alt',subset=['alt','time','lat','lon'],\n",
    "                            how='any'))\n",
    "    \n",
    "    return allsondes\n",
    "\n",
    "def getMatchingSondes(allsondes,dtime,dt_fade,verbose=False):\n",
    "    \n",
    "    \"\"\" \n",
    "    Arguments:\n",
    "    - allsondes: list of all sondes already loaded\n",
    "    - dtime: datetime object, current time\n",
    "    - dt_fade: time window (mn) to fade out sondes that reached the surface\n",
    "    \n",
    "    Returns:\n",
    "    - sondes: list of xarray objects\"\"\"\n",
    "    \n",
    "    sondes = []\n",
    "    \n",
    "    # window for fading out sonde display\n",
    "    delta_fade = datetime.timedelta(minutes=dt_fade)\n",
    "    \n",
    "    for sonde in allsondes:\n",
    "        \n",
    "        launch_time = datetime.datetime.strptime(str(sonde.launch_time.values)[:16],\n",
    "                                                '%Y-%m-%dT%H:%M')\n",
    "\n",
    "        # If sonde currently falling or fell in the past dt_fade mn\n",
    "        if launch_time <= dtime and launch_time + delta_fade > dtime:\n",
    "                \n",
    "            if verbose:\n",
    "                print('keep ',launch_time)\n",
    "                \n",
    "            # Then load sonde data and store it\n",
    "            sondes.append(sonde)\n",
    "            \n",
    "    return sondes"
   ]
  },
  {
   "cell_type": "code",
   "execution_count": 111,
   "metadata": {
    "ExecuteTime": {
     "end_time": "2020-02-08T02:20:23.519793Z",
     "start_time": "2020-02-08T02:20:23.480171Z"
    },
    "scrolled": false
   },
   "outputs": [],
   "source": [
    "## OLD VERSION, NOT NEEDED\n",
    "\n",
    "def loadMatchingSondes(dtime,dt_fade,verbose=False):\n",
    "    \n",
    "    \"\"\" \n",
    "    Arguments:\n",
    "    - dtime: datetime object, current time\n",
    "    - dt_fade: time window (mn) to fade out sondes that reached the surface\n",
    "    \n",
    "    Returns:\n",
    "    - sondes: list of xarray objects\"\"\"\n",
    "    \n",
    "    allsondefiles = glob.glob(os.path.join(sondedir,\n",
    "                                       dtime.strftime('%Y%m%d'),\n",
    "                                       'AVAPS_Dropsondes/processed/*_PQC.nc'))\n",
    "    allsondefiles.sort()\n",
    "    sondes = []\n",
    "    \n",
    "    # window for fading out sonde display\n",
    "    delta_fade = datetime.timedelta(minutes=dt_fade)\n",
    "    \n",
    "    for filepath in allsondefiles:\n",
    "        \n",
    "        filename = os.path.basename(filepath)\n",
    "        time_sonde = datetime.datetime.strptime(filename,\n",
    "                                                'D%Y%m%d_%H%M%S_PQC.nc')\n",
    "#         time_sonde.second = 0 # set seconds to zero\n",
    "\n",
    "        # If sonde currently falling or fell in the past dt_fade mn\n",
    "        if time_sonde <= dtime and time_sonde + delta_fade > dtime:\n",
    "                \n",
    "            if verbose:\n",
    "                print('keep ',time_sonde)\n",
    "                \n",
    "            # Then load sonde data and store it\n",
    "            sondes.append(xr.open_dataset(filepath).dropna(dim='time',subset=['time']).swap_dims({'time':'alt'}).reset_coords().dropna(dim='alt',subset=['alt','time','lat','lon'],\n",
    "                            how='any'))#.\\\n",
    "#                             interp(alt=np.arange(0,9100,10)))\n",
    "    \n",
    "    return sondes\n",
    "    \n",
    "# # TEST function\n",
    "# now = datetime.datetime(year=2020,month=1,day=24,hour=15,minute=43)\n",
    "# print('now:',now)\n",
    "# sondes = loadMatchingSondes(now,60,verbose=True)\n",
    "\n",
    "# print(len(sondes))"
   ]
  },
  {
   "cell_type": "code",
   "execution_count": 79,
   "metadata": {
    "ExecuteTime": {
     "end_time": "2020-02-08T01:53:54.426549Z",
     "start_time": "2020-02-08T01:53:54.389188Z"
    }
   },
   "outputs": [],
   "source": [
    "def addCircle(ax):\n",
    "    \n",
    "    \"\"\"Plot HALO circle on argument ax\"\"\"\n",
    "    \n",
    "    pass"
   ]
  },
  {
   "cell_type": "code",
   "execution_count": 455,
   "metadata": {
    "ExecuteTime": {
     "end_time": "2020-02-08T16:54:13.453565Z",
     "start_time": "2020-02-08T16:54:13.410812Z"
    }
   },
   "outputs": [],
   "source": [
    "def showSonde(ax,dtime,sonde,cmap_falling=plt.cm.GnBu,altmax=9100,col_fading='darkorange',showtime=True):\n",
    "    \n",
    "    dtime_str = dtime.strftime('%Y-%m-%dT%H:%M')\n",
    "    sonde_times = np.array([str(sonde.time[i].values)[:16] for i in range(sonde.time.size)])\n",
    "    matching_times = np.where(sonde_times == dtime_str)[0]\n",
    "\n",
    "    if matching_times.size == 0: # no matching time, sonde on the ground\n",
    "        falling = False\n",
    "        i_dtime = 0\n",
    "    else:\n",
    "        falling = True\n",
    "        i_dtime = matching_times[-1]\n",
    "        \n",
    "    # position of sonde at current time\n",
    "    lon_sonde = sonde.lon.values[i_dtime]\n",
    "    lat_sonde = sonde.lat.values[i_dtime]\n",
    "    alt_sonde = sonde.alt.values[i_dtime]\n",
    "    time_sonde = datetime.datetime.strptime(str(sonde.time.values[i_dtime])[:16],'%Y-%m-%dT%H:%M')\n",
    "    launch_time = datetime.datetime.strptime(str(sonde.launch_time.values)[:16],'%Y-%m-%dT%H:%M')\n",
    "    last_time = datetime.datetime.strptime(str(sonde.time.values[0])[:16],'%Y-%m-%dT%H:%M')\n",
    "    \n",
    "    # choose color based on height\n",
    "    cNorm = colors.Normalize(vmin=0, vmax=altmax)\n",
    "    scalarMap = cmx.ScalarMappable(norm=cNorm, cmap=cmap_falling)\n",
    "    fc = ec = scalarMap.to_rgba(alt_sonde)\n",
    "    \n",
    "    # color in darkorange if the sonde reached the ocean\n",
    "    if dtime > last_time:\n",
    "        fc = ec = col_fading\n",
    "    # fix color for when sonde is just being launched\n",
    "    if dtime == launch_time:\n",
    "        fc = ec = col_top\n",
    "    \n",
    "    if falling:\n",
    "        # color based on height\n",
    "        alpha = 1\n",
    "    else:\n",
    "        # fade out coefficient\n",
    "        delta_fade = datetime.timedelta(minutes=dt_fade)\n",
    "        alpha = ((time_sonde+delta_fade)-dtime)/(delta_fade)\n",
    "        if alpha > 1: alpha = 1 # correct for time rounding errors leading to alpha>1\n",
    "        \n",
    "    circ = Circle((lon_sonde,lat_sonde),0.03,linewidth=2,ec=ec,fc=fc,alpha=alpha)\n",
    "    ax.add_patch(circ)\n",
    "    \n",
    "    # Show launch time\n",
    "    if showtime:\n",
    "        ax.text(lon_sonde+0.05,lat_sonde+0.05,str(sonde.launch_time.values)[11:16],\n",
    "                color=fc,alpha=alpha,fontsize=20)"
   ]
  },
  {
   "cell_type": "code",
   "execution_count": 223,
   "metadata": {
    "ExecuteTime": {
     "end_time": "2020-02-08T03:46:26.563625Z",
     "start_time": "2020-02-08T03:46:26.532551Z"
    }
   },
   "outputs": [],
   "source": [
    "def showTime(ax,dtime):\n",
    "    \n",
    "    ax.text(lonmin+0.1,latmax-0.45,dtime.strftime('%Y-%m-%d\\n%H:%M UTC'),\n",
    "            color='white',fontsize=30)"
   ]
  },
  {
   "cell_type": "code",
   "execution_count": 357,
   "metadata": {
    "ExecuteTime": {
     "end_time": "2020-02-08T13:36:26.366646Z",
     "start_time": "2020-02-08T13:36:26.325034Z"
    }
   },
   "outputs": [],
   "source": [
    "def showColorBar(ax,cmap):\n",
    "\n",
    "    x,y,w,h = ax.get_position().bounds\n",
    "    c_map_ax = fig.add_axes([x+0.8*w, y+0.05*h, 0.008*w, 0.5*h])\n",
    "    cbar = mpl.colorbar.ColorbarBase(c_map_ax, cmap=cmap, orientation = 'vertical')\n",
    "    cbar.ax.set_ylabel('z(km)',fontsize=20,color='w') # cbar legend\n",
    "    h_values = np.linspace(0,altmax,6)\n",
    "    cbar.ax.set_yticklabels(['%1.1f'%(v/1000) for v in h_values],fontsize=15) # set ticklabels\n",
    "    cbar.ax.tick_params(axis='y',colors='w') # set tick color in white\n"
   ]
  },
  {
   "cell_type": "code",
   "execution_count": 257,
   "metadata": {
    "ExecuteTime": {
     "end_time": "2020-02-08T12:21:24.291425Z",
     "start_time": "2020-02-08T12:21:24.261203Z"
    }
   },
   "outputs": [
    {
     "name": "stdout",
     "output_type": "stream",
     "text": [
      "define main parameters/arguments\n"
     ]
    }
   ],
   "source": [
    "print('define main parameters/arguments')\n",
    "\n",
    "# time to fade out\n",
    "dt_fade = 60\n",
    "\n",
    "# aircraft altitude\n",
    "altmax = 9100\n",
    "\n",
    "# Image box\n",
    "lonmin,lonmax = -60,-55\n",
    "dlon = lonmin-lonmax\n",
    "latmin,latmax = 11.5,15\n",
    "dlat = latmin-latmax\n",
    "\n",
    "# HALO circle\n",
    "lon_center, lat_center = -57.717,13.3\n",
    "lon_pt_circle, lat_pt_circle = -57.245,14.1903\n",
    "r_circle = np.sqrt((lon_pt_circle-lon_center)**2+(lat_pt_circle-lat_center)**2)\n"
   ]
  },
  {
   "cell_type": "code",
   "execution_count": 387,
   "metadata": {
    "ExecuteTime": {
     "end_time": "2020-02-08T14:04:44.588016Z",
     "start_time": "2020-02-08T14:04:43.184819Z"
    }
   },
   "outputs": [
    {
     "name": "stdout",
     "output_type": "stream",
     "text": [
      "load all sondes\n"
     ]
    }
   ],
   "source": [
    "print('load all sondes')\n",
    "allsondes = loadSondes(now)"
   ]
  },
  {
   "cell_type": "code",
   "execution_count": 448,
   "metadata": {
    "ExecuteTime": {
     "end_time": "2020-02-08T16:49:07.265374Z",
     "start_time": "2020-02-08T16:49:07.207609Z"
    }
   },
   "outputs": [
    {
     "name": "stdout",
     "output_type": "stream",
     "text": [
      "try  2020-01-24 10:15:00\n",
      "load image 2020-01-24T10:20:00Z.jpg\n",
      "\n",
      "pick sondes to show\n",
      "keep  2020-01-24 09:50:00\n",
      "keep  2020-01-24 09:55:00\n",
      "keep  2020-01-24 10:01:00\n",
      "keep  2020-01-24 10:05:00\n",
      "keep  2020-01-24 10:10:00\n",
      "keep  2020-01-24 10:15:00\n",
      "\n"
     ]
    }
   ],
   "source": [
    "# Load image\n",
    "# now = datetime.datetime(year=2020,month=1,day=24,hour=10,minute=35)\n",
    "now = datetime.datetime(year=2020,month=1,day=24,hour=10,minute=15)\n",
    "print('try ',now)\n",
    "goes_image = loadImage(now)\n",
    "print()\n",
    "\n",
    "# Load sondes\n",
    "print('pick sondes to show')\n",
    "# sondes = loadMatchingSondes(now,60,verbose=True)\n",
    "sondes = getMatchingSondes(allsondes,now,60,verbose=True)\n",
    "print()\n"
   ]
  },
  {
   "cell_type": "code",
   "execution_count": null,
   "metadata": {
    "ExecuteTime": {
     "end_time": "2020-02-08T17:34:21.693116Z",
     "start_time": "2020-02-08T17:34:18.861496Z"
    }
   },
   "outputs": [],
   "source": [
    "# PLOT\n",
    "\n",
    "# fig,ax = plt.subplots(1,figsize=(20,10))\n",
    "fig = plt.figure(figsize=(20,10))\n",
    "ax = fig.gca()\n",
    "\n",
    "# define colormap\n",
    "# col_top = 'lime'\n",
    "# col_top = 'springgreen'\n",
    "# col_top = 'limegreen'\n",
    "# col_top = 'deepskyblue'\n",
    "col_top = 'g'\n",
    "# col_bottom = 'deepskyblue'\n",
    "# col_bottom = 'red'\n",
    "# col_bottom = 'gold'\n",
    "# col_bottom = 'deepskyblue'\n",
    "# col_mid = 'yellow'\n",
    "col_bottom = 'y'\n",
    "cmap = LinearSegmentedColormap.from_list('mycmap', [col_bottom,col_top])\n",
    "\n",
    "# show frame\n",
    "h = ax.imshow(now_goes,aspect=1)\n",
    "h.set_extent([lonmin,lonmax,latmin,latmax])\n",
    "\n",
    "# add circle\n",
    "circ = Circle((lon_center,lat_center),r_circle,linewidth=2,ec=col_top,fill=False)\n",
    "ax.add_patch(circ)\n",
    "\n",
    "# add grid\n",
    "ax.xaxis.set_major_locator(ticker.MultipleLocator(0.5))\n",
    "ax.yaxis.set_major_locator(ticker.MultipleLocator(0.5))\n",
    "ax.grid(color='w', linestyle='-', linewidth=0.5)\n",
    "\n",
    "# show colorbar\n",
    "showColorBar(ax,cmap)\n",
    "    \n",
    "# show sondes\n",
    "for sonde in sondes:\n",
    "    showSonde(ax,now,sonde,cmap_falling=cmap,altmax=altmax)\n",
    "    \n",
    "# show current time\n",
    "showTime(ax,now)\n",
    "\n",
    "# remove axes\n",
    "ax.xaxis.set_ticklabels([])\n",
    "ax.xaxis.set_ticks_position('none')\n",
    "ax.yaxis.set_ticklabels([])\n",
    "ax.yaxis.set_ticks_position('none')\n",
    "\n",
    "outputfilepath = os.path.join(outputdir,outputFileName(now))\n",
    "# plt.savefig(outputfilepath,bbox_inches='tight')\n",
    "plt.savefig('test100dpi.jpeg',bbox_inches='tight',dpi=100)"
   ]
  },
  {
   "cell_type": "code",
   "execution_count": 437,
   "metadata": {
    "ExecuteTime": {
     "end_time": "2020-02-08T16:17:11.669366Z",
     "start_time": "2020-02-08T16:17:11.625319Z"
    }
   },
   "outputs": [],
   "source": [
    "def makeImage(image,dtime,allsondes,dt_fade,col_top,col_bottom,outputfilepath):\n",
    "    \n",
    "    fig = plt.figure(figsize=(20,10))\n",
    "    ax = fig.gca()\n",
    "\n",
    "    # create cmap\n",
    "    cmap = LinearSegmentedColormap.from_list('mycmap', [col_bottom,col_top])\n",
    "\n",
    "    # show frame\n",
    "    h = ax.imshow(image,aspect=1)\n",
    "    h.set_extent([lonmin,lonmax,latmin,latmax])\n",
    "\n",
    "    # add circle\n",
    "    circ = Circle((lon_center,lat_center),r_circle,linewidth=2,ec=col_top,fill=False)\n",
    "    ax.add_patch(circ)\n",
    "\n",
    "    # add grid\n",
    "    ax.xaxis.set_major_locator(ticker.MultipleLocator(0.5))\n",
    "    ax.yaxis.set_major_locator(ticker.MultipleLocator(0.5))\n",
    "    ax.grid(color='w', linestyle='-', linewidth=0.5)\n",
    "\n",
    "    # show colorbar\n",
    "    x,y,w,h = ax.get_position().bounds\n",
    "    c_map_ax = fig.add_axes([x+0.8*w, y+0.05*h, 0.008*w, 0.5*h])\n",
    "    cbar = mpl.colorbar.ColorbarBase(c_map_ax, cmap=cmap, orientation = 'vertical')\n",
    "    cbar.ax.set_ylabel('z(km)',fontsize=20,color='w') # cbar legend\n",
    "    h_values = np.linspace(0,altmax,6)\n",
    "    cbar.ax.set_yticklabels(['%1.1f'%(v/1000) for v in h_values],fontsize=15) # set ticklabels\n",
    "    cbar.ax.tick_params(axis='y',colors='w') # set tick color in white\n",
    "\n",
    "    # show sondes\n",
    "    for sonde in getMatchingSondes(allsondes,dtime,dt_fade):\n",
    "        showSonde(ax,now,sonde,cmap_falling=cmap,altmax=altmax)\n",
    "\n",
    "    # show current time\n",
    "    showTime(ax,now)\n",
    "\n",
    "    # remove axes\n",
    "    ax.xaxis.set_ticklabels([])\n",
    "    ax.xaxis.set_ticks_position('none')\n",
    "    ax.yaxis.set_ticklabels([])\n",
    "    ax.yaxis.set_ticks_position('none')\n",
    "    \n",
    "    # save and close\n",
    "    plt.savefig(outputfilepath,bbox_inches='tight')\n",
    "    plt.close()"
   ]
  },
  {
   "cell_type": "code",
   "execution_count": 449,
   "metadata": {
    "ExecuteTime": {
     "end_time": "2020-02-08T16:49:17.158345Z",
     "start_time": "2020-02-08T16:49:14.640535Z"
    },
    "scrolled": false
   },
   "outputs": [
    {
     "name": "stdout",
     "output_type": "stream",
     "text": [
      "-58.194145 14.133422 7.932469 2020-01-24 10:03:00 2020-01-24 09:50:00\n",
      "-57.60627 14.26847 12.732818 2020-01-24 10:08:00 2020-01-24 09:55:00\n",
      "-56.88061 13.908566 12.682042 2020-01-24 10:14:00 2020-01-24 10:01:00\n",
      "-56.661842 13.463651 2244.1306 2020-01-24 10:15:00 2020-01-24 10:05:00\n",
      "-56.744446 12.933232 106.72994 2020-01-24 10:11:00 2020-01-24 10:10:00\n",
      "-57.095524 12.505215 10165.972 2020-01-24 10:15:00 2020-01-24 10:15:00\n"
     ]
    }
   ],
   "source": [
    "col_top = 'g'\n",
    "col_bottom = 'y'\n",
    "outputfilepath = os.path.join(outputdir,outputFileName(now))\n",
    "# try makeImage\n",
    "makeImage(goes_image,now,allsondes,dt_fade,col_top,col_bottom,outputfilepath)"
   ]
  },
  {
   "cell_type": "code",
   "execution_count": 467,
   "metadata": {
    "ExecuteTime": {
     "end_time": "2020-02-08T17:07:58.832843Z",
     "start_time": "2020-02-08T17:07:58.768166Z"
    }
   },
   "outputs": [
    {
     "name": "stdout",
     "output_type": "stream",
     "text": [
      "2020-01-24 10:15:00\n",
      "10067.296\n",
      "10161.817\n",
      "10179.263\n",
      "10174.7295\n",
      "1179.4199\n",
      "10165.972\n"
     ]
    }
   ],
   "source": [
    "print(now)\n",
    "sondes = getMatchingSondes(allsondes,now,dt_fade)\n",
    "for sonde in sondes:\n",
    "    print(sonde.alt.values[-1])"
   ]
  },
  {
   "cell_type": "code",
   "execution_count": 431,
   "metadata": {
    "ExecuteTime": {
     "end_time": "2020-02-08T15:51:39.355742Z",
     "start_time": "2020-02-08T15:51:39.320190Z"
    }
   },
   "outputs": [
    {
     "name": "stdout",
     "output_type": "stream",
     "text": [
      "make 2020-02-08T16:50:00Z_HALO.jpg\n",
      "make 2020-02-08T16:50:00Z_HALO.jpg\n",
      "make 2020-02-08T16:50:00Z_HALO.jpg\n",
      "make 2020-02-08T16:50:00Z_HALO.jpg\n",
      "make 2020-02-08T17:00:00Z_HALO.jpg\n",
      "make 2020-02-08T17:00:00Z_HALO.jpg\n",
      "make 2020-02-08T17:00:00Z_HALO.jpg\n",
      "make 2020-02-08T17:00:00Z_HALO.jpg\n",
      "make 2020-02-08T17:00:00Z_HALO.jpg\n",
      "make 2020-02-08T17:00:00Z_HALO.jpg\n"
     ]
    }
   ],
   "source": [
    "dt = datetime.timedelta(seconds=60)\n",
    "start = datetime.datetime.now()\n",
    "dtime = start\n",
    "for i in range(10):\n",
    "    dtime = start + i*dt\n",
    "    print('make %s'%outputFileName(dtime))"
   ]
  },
  {
   "cell_type": "code",
   "execution_count": null,
   "metadata": {},
   "outputs": [],
   "source": []
  }
 ],
 "metadata": {
  "hide_input": false,
  "kernelspec": {
   "display_name": "Python 3",
   "language": "python",
   "name": "python3"
  },
  "language_info": {
   "codemirror_mode": {
    "name": "ipython",
    "version": 3
   },
   "file_extension": ".py",
   "mimetype": "text/x-python",
   "name": "python",
   "nbconvert_exporter": "python",
   "pygments_lexer": "ipython3",
   "version": "3.7.4"
  },
  "toc": {
   "base_numbering": 1,
   "nav_menu": {},
   "number_sections": true,
   "sideBar": true,
   "skip_h1_title": false,
   "title_cell": "Table of Contents",
   "title_sidebar": "Contents",
   "toc_cell": false,
   "toc_position": {},
   "toc_section_display": true,
   "toc_window_display": false
  },
  "varInspector": {
   "cols": {
    "lenName": 16,
    "lenType": 16,
    "lenVar": 40
   },
   "kernels_config": {
    "python": {
     "delete_cmd_postfix": "",
     "delete_cmd_prefix": "del ",
     "library": "var_list.py",
     "varRefreshCmd": "print(var_dic_list())"
    },
    "r": {
     "delete_cmd_postfix": ") ",
     "delete_cmd_prefix": "rm(",
     "library": "var_list.r",
     "varRefreshCmd": "cat(var_dic_list()) "
    }
   },
   "types_to_exclude": [
    "module",
    "function",
    "builtin_function_or_method",
    "instance",
    "_Feature"
   ],
   "window_display": false
  }
 },
 "nbformat": 4,
 "nbformat_minor": 2
}
